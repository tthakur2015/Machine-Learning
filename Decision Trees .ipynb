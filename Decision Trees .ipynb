{
 "cells": [
  {
   "cell_type": "markdown",
   "id": "1cb0b755",
   "metadata": {},
   "source": [
    "# Decision Trees - Purchase Prediction"
   ]
  },
  {
   "cell_type": "code",
   "execution_count": 87,
   "id": "d53c559e",
   "metadata": {},
   "outputs": [],
   "source": [
    "# Supress Warnings\n",
    "\n",
    "import warnings\n",
    "warnings.filterwarnings('ignore')\n",
    "\n",
    "import pandas as pd\n",
    "import numpy as np\n",
    "\n",
    "import matplotlib.pyplot as plt\n",
    "import seaborn as sns\n",
    "\n",
    "%matplotlib inline"
   ]
  },
  {
   "cell_type": "code",
   "execution_count": 88,
   "id": "7638c2dc",
   "metadata": {},
   "outputs": [
    {
     "name": "stdout",
     "output_type": "stream",
     "text": [
      "<class 'pandas.core.frame.DataFrame'>\n",
      "RangeIndex: 30 entries, 0 to 29\n",
      "Data columns (total 3 columns):\n",
      " #   Column                         Non-Null Count  Dtype  \n",
      "---  ------                         --------------  -----  \n",
      " 0   Average Delivery Rating (a1)   30 non-null     float64\n",
      " 1   Average Orders per month (a2)  30 non-null     int64  \n",
      " 2   \"Delighted Members\" Purchase   30 non-null     object \n",
      "dtypes: float64(1), int64(1), object(1)\n",
      "memory usage: 848.0+ bytes\n"
     ]
    }
   ],
   "source": [
    "data = pd.read_csv(\"Delhi+Delights+Data.csv\")\n",
    "data.info()"
   ]
  },
  {
   "cell_type": "code",
   "execution_count": 89,
   "id": "44c9faa0",
   "metadata": {},
   "outputs": [],
   "source": [
    "data = data.rename(columns = dict(zip(data.columns, [\"Rating\", \"Orders per month\", \"Purchase\"])))"
   ]
  },
  {
   "cell_type": "code",
   "execution_count": 124,
   "id": "097d56c1",
   "metadata": {},
   "outputs": [
    {
     "data": {
      "text/html": [
       "<div>\n",
       "<style scoped>\n",
       "    .dataframe tbody tr th:only-of-type {\n",
       "        vertical-align: middle;\n",
       "    }\n",
       "\n",
       "    .dataframe tbody tr th {\n",
       "        vertical-align: top;\n",
       "    }\n",
       "\n",
       "    .dataframe thead th {\n",
       "        text-align: right;\n",
       "    }\n",
       "</style>\n",
       "<table border=\"1\" class=\"dataframe\">\n",
       "  <thead>\n",
       "    <tr style=\"text-align: right;\">\n",
       "      <th></th>\n",
       "      <th>Rating</th>\n",
       "      <th>Orders per month</th>\n",
       "    </tr>\n",
       "  </thead>\n",
       "  <tbody>\n",
       "    <tr>\n",
       "      <th>count</th>\n",
       "      <td>30.000000</td>\n",
       "      <td>30.000000</td>\n",
       "    </tr>\n",
       "    <tr>\n",
       "      <th>mean</th>\n",
       "      <td>3.066667</td>\n",
       "      <td>21.000000</td>\n",
       "    </tr>\n",
       "    <tr>\n",
       "      <th>std</th>\n",
       "      <td>1.040004</td>\n",
       "      <td>10.763924</td>\n",
       "    </tr>\n",
       "    <tr>\n",
       "      <th>min</th>\n",
       "      <td>1.500000</td>\n",
       "      <td>11.000000</td>\n",
       "    </tr>\n",
       "    <tr>\n",
       "      <th>25%</th>\n",
       "      <td>2.500000</td>\n",
       "      <td>13.000000</td>\n",
       "    </tr>\n",
       "    <tr>\n",
       "      <th>50%</th>\n",
       "      <td>3.000000</td>\n",
       "      <td>15.000000</td>\n",
       "    </tr>\n",
       "    <tr>\n",
       "      <th>75%</th>\n",
       "      <td>3.500000</td>\n",
       "      <td>27.000000</td>\n",
       "    </tr>\n",
       "    <tr>\n",
       "      <th>max</th>\n",
       "      <td>4.500000</td>\n",
       "      <td>39.000000</td>\n",
       "    </tr>\n",
       "  </tbody>\n",
       "</table>\n",
       "</div>"
      ],
      "text/plain": [
       "          Rating  Orders per month\n",
       "count  30.000000         30.000000\n",
       "mean    3.066667         21.000000\n",
       "std     1.040004         10.763924\n",
       "min     1.500000         11.000000\n",
       "25%     2.500000         13.000000\n",
       "50%     3.000000         15.000000\n",
       "75%     3.500000         27.000000\n",
       "max     4.500000         39.000000"
      ]
     },
     "execution_count": 124,
     "metadata": {},
     "output_type": "execute_result"
    }
   ],
   "source": [
    "data.describe()"
   ]
  },
  {
   "cell_type": "markdown",
   "id": "0b1bdee0",
   "metadata": {},
   "source": [
    "### Manually calculating information gain"
   ]
  },
  {
   "cell_type": "markdown",
   "id": "2c2d4cd7",
   "metadata": {},
   "source": [
    "#### Define helper functions to calculate entropy and gini index"
   ]
  },
  {
   "cell_type": "code",
   "execution_count": 122,
   "id": "c3a4d614",
   "metadata": {},
   "outputs": [],
   "source": [
    "import functools\n",
    "import math\n",
    "\n",
    "class information_measures:\n",
    "    \n",
    "    # Instance attributes\n",
    "    def __init__(self, value_counts):\n",
    "        self.value_counts = value_counts\n",
    "        self.n = self.value_counts.sum()\n",
    "        \n",
    "        self.pi = []\n",
    "        for i in self.value_counts.keys():\n",
    "            self.pi.append(self.value_counts[i]/self.n)\n",
    "            \n",
    "    def gini_impurity (self):\n",
    "        return 1 - functools.reduce(lambda a,b: a**2 + b**2, self.pi)\n",
    "\n",
    "    def entropy(self):\n",
    "        return -1*functools.reduce(lambda a,b: a*math.log(a,2) + b*math.log(b,2), self.pi)"
   ]
  },
  {
   "cell_type": "code",
   "execution_count": 127,
   "id": "8260f59b",
   "metadata": {},
   "outputs": [
    {
     "name": "stdout",
     "output_type": "stream",
     "text": [
      "Gini of original dataset: 0.5\n",
      "Entropy of original dataser: 1.0\n"
     ]
    }
   ],
   "source": [
    "x = data.Purchase.value_counts()\n",
    "dt_loss = information_measures(x)\n",
    "\n",
    "gini_before_split = dt_loss.gini_impurity() \n",
    "entropy_before_split = dt_loss.entropy()\n",
    "\n",
    "print(\"Gini of original dataset:\", gini_before_split)\n",
    "print(\"Entropy of original dataser:\", entropy_before_split)"
   ]
  },
  {
   "cell_type": "markdown",
   "id": "92cc9eb6",
   "metadata": {},
   "source": [
    "#### Let's split the dataset on the mean of orders per month"
   ]
  },
  {
   "cell_type": "code",
   "execution_count": 132,
   "id": "5f270617",
   "metadata": {},
   "outputs": [],
   "source": [
    "subset_a = data[data[\"Orders per month\"] < data[\"Orders per month\"].mean()][\"Purchase\"]\n",
    "subset_b = data[data[\"Orders per month\"] >= data[\"Orders per month\"].mean()][\"Purchase\"]\n",
    "\n",
    "gini_subset_a = information_measures(subset_a.value_counts()).gini_impurity()\n",
    "gini_subset_b = information_measures(subset_b.value_counts()).gini_impurity()"
   ]
  },
  {
   "cell_type": "code",
   "execution_count": 133,
   "id": "54cc19ae",
   "metadata": {},
   "outputs": [
    {
     "data": {
      "text/plain": [
       "0.3518518518518518"
      ]
     },
     "execution_count": 133,
     "metadata": {},
     "output_type": "execute_result"
    }
   ],
   "source": [
    "# Weighted gini and entropy\n",
    "\n",
    "weighted_gini = gini_subset_a*(len(subset_a)/len(data)) + gini_subset_b*(len(subset_b)/len(data))\n",
    "weighted_gini"
   ]
  },
  {
   "cell_type": "markdown",
   "id": "4a6ac18a",
   "metadata": {},
   "source": [
    "### Train Test Split"
   ]
  },
  {
   "cell_type": "code",
   "execution_count": 39,
   "id": "4659169c",
   "metadata": {},
   "outputs": [
    {
     "data": {
      "text/plain": [
       "((24, 2), (6, 2))"
      ]
     },
     "execution_count": 39,
     "metadata": {},
     "output_type": "execute_result"
    }
   ],
   "source": [
    "from sklearn.model_selection import train_test_split\n",
    "y = data['Purchase']\n",
    "X = data[[\"Rating\", \"Orders per month\"]]\n",
    "\n",
    "np.random.seed(0)\n",
    "X_train, X_test, y_train, y_test = train_test_split(X, y, random_state = 123, test_size = 0.2)\n",
    "X_train.shape, X_test.shape"
   ]
  },
  {
   "cell_type": "markdown",
   "id": "843d7b4d",
   "metadata": {},
   "source": [
    "### Building a Decision Tree Model using SKLearn"
   ]
  },
  {
   "cell_type": "code",
   "execution_count": 40,
   "id": "285df998",
   "metadata": {},
   "outputs": [
    {
     "data": {
      "text/plain": [
       "DecisionTreeClassifier(max_depth=5, min_samples_leaf=5, min_samples_split=10)"
      ]
     },
     "execution_count": 40,
     "metadata": {},
     "output_type": "execute_result"
    }
   ],
   "source": [
    "from sklearn.tree import DecisionTreeClassifier\n",
    "dt = DecisionTreeClassifier(max_depth = 5, min_samples_split = 10, min_samples_leaf = 5, criterion = 'gini')\n",
    "dt.fit(X_train, y_train)"
   ]
  },
  {
   "cell_type": "markdown",
   "id": "053abff1",
   "metadata": {},
   "source": [
    "### Visualizing the Decision Tree"
   ]
  },
  {
   "cell_type": "code",
   "execution_count": 45,
   "id": "bf32a480",
   "metadata": {},
   "outputs": [
    {
     "data": {
      "image/png": "[encoded data removed]",
      "text/plain": [
       "<IPython.core.display.Image object>"
      ]
     },
     "execution_count": 45,
     "metadata": {},
     "output_type": "execute_result"
    }
   ],
   "source": [
    "from IPython.display import Image\n",
    "from six import StringIO\n",
    "from sklearn.tree import export_graphviz\n",
    "import pydotplus, graphviz\n",
    "\n",
    "dot_data = StringIO()\n",
    "\n",
    "export_graphviz(dt, out_file=dot_data, filled=True, rounded=True,\n",
    "                feature_names=X_train.columns)\n",
    "\n",
    "graph = pydotplus.graph_from_dot_data(dot_data.getvalue())\n",
    "Image(graph.create_png())\n"
   ]
  }
 ],
 "metadata": {
  "kernelspec": {
   "display_name": "Python 3",
   "language": "python",
   "name": "python3"
  },
  "language_info": {
   "codemirror_mode": {
    "name": "ipython",
    "version": 3
   },
   "file_extension": ".py",
   "mimetype": "text/x-python",
   "name": "python",
   "nbconvert_exporter": "python",
   "pygments_lexer": "ipython3",
   "version": "3.8.8"
  }
 },
 "nbformat": 4,
 "nbformat_minor": 5
}
